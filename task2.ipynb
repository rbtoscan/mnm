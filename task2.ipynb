{
 "cells": [
  {
   "cell_type": "code",
   "execution_count": null,
   "metadata": {},
   "outputs": [],
   "source": [
    "### 1.) Count the total number of variants represented in the form of breakends.\n",
    "\n",
    "vcf_file='/Users/toscan/Documents/job_suche/applications/mnm_bioscience/tumor_vs_normal.manta.somatic.vcf'\n",
    "\n",
    "f=open(vcf_file,'r')\n",
    "\n",
    "var_count=0\n",
    "while True:\n",
    "    l=f.readline()\n",
    "    if not l: break\n",
    "    else:\n",
    "        #print l\n",
    "        if l[0] != '#': \n",
    "           # print l\n",
    "            var_count+=1\n",
    "print \"number of variations\",var_count\n",
    "f.close()"
   ]
  },
  {
   "cell_type": "code",
   "execution_count": null,
   "metadata": {},
   "outputs": [],
   "source": [
    "### 2.) Make a boxplots of the deletion length per each chromosome.\n",
    "\n",
    "import pandas as np\n",
    "import matplotlib.pyplot as plt\n",
    "\n",
    "vcf_file='/Users/toscan/Documents/job_suche/applications/mnm_bioscience/tumor_vs_normal.manta.somatic.vcf'\n",
    "f=open(vcf_file,'r')\n",
    "\n",
    "chro_del={}\n",
    "while True:\n",
    "    l=f.readline()\n",
    "    if not l: break\n",
    "    else:\n",
    "        #print l\n",
    "        if l[0] != '#': \n",
    "           if 'SVTYPE=DEL' in l:\n",
    "                content= l.split()  \n",
    "                #print content\n",
    "                #print content[0]\n",
    "                #print content[0],abs(int(content[7].split(';')[2].split('=')[1]))\n",
    "                if content[0] not in chro_del:\n",
    "                    chro_del[content[0]]=[abs(int(content[7].split(';')[2].split('=')[1]))]\n",
    "                else:\n",
    "                    chro_del[content[0]].append(abs(int(content[7].split(';')[2].split('=')[1])))\n",
    "                    \n",
    "                    \n",
    "data_plot=[]                    \n",
    "                \n",
    "for k,v in chro_del.iteritems():\n",
    "    print k,sum(v)/len(v)\n",
    "    data_plot.append(v)\n",
    "    \n",
    "plt.boxplot(data_plot)\n",
    "plt.show() \n",
    "#np.random.seed(10)\n",
    " \n",
    "#data_1 = np.random.normal(100, 10, 200)\n",
    "#data_2 = np.random.normal(90, 20, 200)\n",
    "#data_3 = np.random.normal(80, 30, 200)\n",
    "#data_4 = np.random.normal(70, 40, 200)\n",
    "#data = [data_1, data_2, data_3, data_4]\n",
    " \n",
    "#fig = plt.figure(figsize =(10, 7))\n",
    " \n",
    "# Creating axes instance\n",
    "#ax = fig.add_axes([0, 0, 1, 1])\n",
    " \n",
    "# Creating plot\n",
    "#bp = ax.boxplot(data_plot)\n",
    " \n",
    "# show plot\n",
    "\n",
    "f.close()\n"
   ]
  },
  {
   "cell_type": "code",
   "execution_count": 27,
   "metadata": {},
   "outputs": [],
   "source": [
    "### 3.) Count how many variants failed to pass the filtering. Make a piechart of most frequent reasons to fail.\n",
    "\n",
    "vcf_file='/Users/toscan/Documents/job_suche/applications/mnm_bioscience/tumor_vs_normal.manta.somatic.vcf'\n",
    "\n",
    "f=open(vcf_file,'r')\n",
    "filt={}\n",
    "while True:\n",
    "    l=f.readline()\n",
    "    if not l: break\n",
    "    else:\n",
    "        if l[0] != '#': \n",
    "            content= l.split()\n",
    "            if content[6] != 'PASS':\n",
    "                if content[6] not in filt:\n",
    "                    filt[content[6]]=1\n",
    "                else:\n",
    "                    filt[content[6]]=filt[content[6]]+1\n",
    "f.close()\n",
    "labels=[]\n",
    "sizes=[]\n",
    "for k,v in filt.iteritems():\n",
    "    labels.append(k)\n",
    "    sizes.append(v)\n",
    "            \n",
    "import matplotlib.pyplot as plt\n",
    "\n",
    "\n",
    "fig1, ax1 = plt.subplots()\n",
    "ax1.pie(sizes, labels=labels, autopct='%1.1f%%',\n",
    "        shadow=True, startangle=90)\n",
    "ax1.axis('equal')  # Equal aspect ratio ensures that pie is drawn as a circle.\n",
    "\n",
    "plt.show()\n",
    "\n"
   ]
  },
  {
   "cell_type": "code",
   "execution_count": 36,
   "metadata": {},
   "outputs": [
    {
     "name": "stdout",
     "output_type": "stream",
     "text": [
      "biggest CIPOS: 737\n",
      "Position: 120268896\n",
      "ID: MantaBND:27484:0:1:0:0:0:0\n"
     ]
    }
   ],
   "source": [
    "## 4.) Find the variant with the widest confidence interval around POS;\n",
    "vcf_file='/Users/toscan/Documents/job_suche/applications/mnm_bioscience/tumor_vs_normal.manta.somatic.vcf'\n",
    "\n",
    "f=open(vcf_file,'r')\n",
    "cipos_max=1\n",
    "var_cipos_max=''\n",
    "while True:\n",
    "    l=f.readline()\n",
    "    if not l: break\n",
    "    else:\n",
    "        if l[0] != '#': \n",
    "            if 'POS' in l:\n",
    "                content= l.split()\n",
    "               # print content[7]\n",
    "                found='n'\n",
    "                for c in content[7].split(';'):\n",
    "                    if 'CIPOS' in c:\n",
    "                        found='y'\n",
    "                        cipos=c\n",
    "                if found == 'y':\n",
    "                    #print cipos\n",
    "                    a=int(cipos.split('=')[1].split(',')[0])\n",
    "                    b=int(cipos.split('=')[1].split(',')[1])\n",
    "                  #  print a,b\n",
    "                    if b-a > cipos_max:\n",
    "                        cipos_max = b-a\n",
    "                        var_cipos_max=content[1],content[2]\n",
    "print 'biggest CIPOS:',cipos_max\n",
    "print 'Position:',var_cipos_max[0]\n",
    "print 'ID:',var_cipos_max[1]\n",
    "            \n",
    "f.close()"
   ]
  },
  {
   "cell_type": "code",
   "execution_count": 37,
   "metadata": {},
   "outputs": [
    {
     "name": "stdout",
     "output_type": "stream",
     "text": [
      "1\t149603639\tMantaBND:28842:0:1:0:0:0:0\tT\tT]X:20306777]\t.\tPASS\tSVTYPE=BND;MATEID=MantaBND:28842:0:1:0:0:0:1;CIPOS=0,3;HOMLEN=3;HOMSEQ=CAA;SOMATIC;SOMATICSCORE=53;BND_DEPTH=32;MATE_BND_DEPTH=42\tPR:SR\t52,0:42,0\t104,5:75,9\n",
      "\n"
     ]
    }
   ],
   "source": [
    "### 5.) What type of stractural variant represented by ID MantaBND:28842:0:1:0:0:0:0\n",
    "f=open(vcf_file,'r')\n",
    "filt={}\n",
    "while True:\n",
    "    l=f.readline()\n",
    "    if not l: break\n",
    "    else:\n",
    "        if 'MantaBND:28842:0:1:0:0:0:0' in l: \n",
    "            print l\n",
    "            \n",
    "### the SVTYPE is BND and it seems to be eithe a translocation or inversion.\n",
    "## according to what I read here: https://github.com/hall-lab/svtools/issues/104#issuecomment-209944143\n",
    "## and here: https://github.com/Illumina/manta/blob/master/docs/userGuide/README.md\n",
    "## but to be very honest, i do not know. I am not familiar with the vocabulary\n",
    "            \n",
    "            \n",
    "f.close()\n"
   ]
  },
  {
   "cell_type": "code",
   "execution_count": null,
   "metadata": {},
   "outputs": [],
   "source": []
  },
  {
   "cell_type": "code",
   "execution_count": null,
   "metadata": {},
   "outputs": [],
   "source": []
  },
  {
   "cell_type": "code",
   "execution_count": null,
   "metadata": {},
   "outputs": [],
   "source": []
  },
  {
   "cell_type": "code",
   "execution_count": null,
   "metadata": {},
   "outputs": [],
   "source": []
  }
 ],
 "metadata": {
  "kernelspec": {
   "display_name": "Python 2",
   "language": "python",
   "name": "python2"
  },
  "language_info": {
   "codemirror_mode": {
    "name": "ipython",
    "version": 2
   },
   "file_extension": ".py",
   "mimetype": "text/x-python",
   "name": "python",
   "nbconvert_exporter": "python",
   "pygments_lexer": "ipython2",
   "version": "2.7.16"
  }
 },
 "nbformat": 4,
 "nbformat_minor": 2
}
