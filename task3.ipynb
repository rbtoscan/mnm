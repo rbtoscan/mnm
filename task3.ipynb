{
 "cells": [
  {
   "cell_type": "code",
   "execution_count": 7,
   "metadata": {},
   "outputs": [
    {
     "name": "stdout",
     "output_type": "stream",
     "text": [
      "\n"
     ]
    }
   ],
   "source": [
    "### 1.) Discard all the variants which are failed to pass the filtering\n",
    "vcf_file='/Users/toscan/Documents/job_suche/applications/mnm_bioscience/tumor_vs_normal.manta.somatic.vcf'\n",
    "\n",
    "f=open(vcf_file,'r')\n",
    "\n",
    "filtered_variations=[]\n",
    "\n",
    "while True:\n",
    "    l=f.readline()\n",
    "    if not l: break\n",
    "    else:\n",
    "        #print l\n",
    "        if l[0] != '#': \n",
    "            content= l.split()\n",
    "            #print content[6]\n",
    "            if content[6] == 'PASS':\n",
    "                filtered_variations.append(l.strip())\n",
    "\n",
    "f.close()\n",
    "\n",
    "\n",
    "\n",
    "\n"
   ]
  },
  {
   "cell_type": "code",
   "execution_count": null,
   "metadata": {},
   "outputs": [],
   "source": [
    "### 2.) Annotate filtered variants with the SNPeff using hg19 database\n",
    "\n",
    "## install snpeff\n",
    "## install database chromosse 19 \n",
    "# $  java -jar snpEff.jar download hg19\n",
    "#$  java -jar snpEff.jar download h19kg\n",
    "#java.lang.RuntimeException: Property: 'h19kg.genome' not found\n",
    "#\tat org.snpeff.interval.Genome.<init>(Genome.java:104)\n",
    "#\tat org.snpeff.snpEffect.Config.readGenomeConfig(Config.java:693)\n",
    "#\tat org.snpeff.snpEffect.Config.readConfig(Config.java:661)\n",
    "#\tat org.snpeff.snpEffect.Config.init(Config.java:487)\n",
    "#\tat org.snpeff.snpEffect.Config.<init>(Config.java:121)\n",
    "#\tat org.snpeff.SnpEff.loadConfig(SnpEff.java:449)\n",
    "#\tat org.snpeff.snpEffect.commandLine.SnpEffCmdDownload.runDownloadGenome(SnpEffCmdDownload.java:80)\n",
    "#\tat org.snpeff.snpEffect.commandLine.SnpEffCmdDownload.run(SnpEffCmdDownload.java:72)\n",
    "#\tat org.snpeff.SnpEff.run(SnpEff.java:1188)\n",
    "#\tat org.snpeff.SnpEff.main(SnpEff.java:168)\n",
    "\n",
    "\n"
   ]
  }
 ],
 "metadata": {
  "kernelspec": {
   "display_name": "Python 2",
   "language": "python",
   "name": "python2"
  },
  "language_info": {
   "codemirror_mode": {
    "name": "ipython",
    "version": 2
   },
   "file_extension": ".py",
   "mimetype": "text/x-python",
   "name": "python",
   "nbconvert_exporter": "python",
   "pygments_lexer": "ipython2",
   "version": "2.7.16"
  }
 },
 "nbformat": 4,
 "nbformat_minor": 2
}
